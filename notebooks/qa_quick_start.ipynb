{
 "cells": [
  {
   "cell_type": "markdown",
   "id": "destroyed-trading",
   "metadata": {},
   "source": [
    "# Quick Start\n",
    "\n",
    "This notebook gives the bare minimum steps needed to run the ELI5 QA system, using the code in src/qa_utils.py. \n",
    "\n",
    "If you are looking for an understanding of what's going on under the hood, look at the ELI5-redux.ipynb notebook and of course the original blog post itself: https://yjernite.github.io/lfqa.html."
   ]
  },
  {
   "cell_type": "code",
   "execution_count": 1,
   "id": "everyday-texas",
   "metadata": {},
   "outputs": [],
   "source": [
    "import sys, os\n",
    "sys.path.append(\"../src\") # where the source code lies\n",
    "\n",
    "import torch as torch\n",
    "from transformers import AutoTokenizer, AutoModel, AutoModelForSeq2SeqLM\n",
    "from datasets import load_dataset\n",
    "\n",
    "from qa_utils import embed_passages, make_index, QAKnowledgeBase"
   ]
  },
  {
   "cell_type": "markdown",
   "id": "unusual-olive",
   "metadata": {},
   "source": [
    "# Making the Embeddings"
   ]
  },
  {
   "cell_type": "code",
   "execution_count": 2,
   "id": "painted-training",
   "metadata": {},
   "outputs": [
    {
     "name": "stderr",
     "output_type": "stream",
     "text": [
      "Reusing dataset wiki_snippets (/home/rob/.cache/huggingface/datasets/wiki_snippets/wiki40b_en_100_0/1.0.0/d152a0e6a420c02b9b26e7f75f45fb54c818cae1d83e8f164f0b1a13ac7998ae)\n"
     ]
    }
   ],
   "source": [
    "# load the dataset\n",
    "wiki40b_snippets = load_dataset(\"wiki_snippets\", name = \"wiki40b_en_100_0\")[\"train\"]"
   ]
  },
  {
   "cell_type": "code",
   "execution_count": 3,
   "id": "genetic-exception",
   "metadata": {},
   "outputs": [
    {
     "name": "stderr",
     "output_type": "stream",
     "text": [
      "Some weights of RetriBertModel were not initialized from the model checkpoint at yjernite/retribert-base-uncased and are newly initialized: ['bert_query.embeddings.position_ids']\n",
      "You should probably TRAIN this model on a down-stream task to be able to use it for predictions and inference.\n"
     ]
    }
   ],
   "source": [
    "# load the RETRIBERT model for embedding the wiki40b_snippet passages\n",
    "qar_tokenizer = AutoTokenizer.from_pretrained('yjernite/retribert-base-uncased')\n",
    "qar_model = AutoModel.from_pretrained('yjernite/retribert-base-uncased')"
   ]
  },
  {
   "cell_type": "code",
   "execution_count": 4,
   "id": "arabic-gross",
   "metadata": {},
   "outputs": [
    {
     "name": "stdout",
     "output_type": "stream",
     "text": [
      "file already exists are you sure you want to overwrite and re-embed?\n"
     ]
    }
   ],
   "source": [
    "# make the embeddings for the index. This will take about 15 hours if you do the full dataset\n",
    "\n",
    "index_filename = \"my_wiki_embeddings.dat\" # change this to the full file path where you want to store the index\n",
    "\n",
    "#Note, if the file exists, running embed passages will overwrite it. Be careful and don't do that!\n",
    "if not os.path.isfile(index_filename): # here as a safety measure\n",
    "    print(\"starting to embed\")\n",
    "    embed_passages(wiki40b_snippets, \n",
    "                   qar_tokenizer, \n",
    "                   qar_model, \n",
    "                   n_batches = 2, # REMOVE THIS LINE TO EMBED THE ENTIRE DATA SET!!!!!\n",
    "                   index_file_name = index_filename,\n",
    "                   device=\"cuda:0\")\n",
    "else:\n",
    "    print(\"file already exists are you sure you want to overwrite and re-embed?\")"
   ]
  },
  {
   "cell_type": "markdown",
   "id": "framed-yield",
   "metadata": {},
   "source": [
    "# Ask a question"
   ]
  },
  {
   "cell_type": "code",
   "execution_count": 4,
   "id": "exotic-emission",
   "metadata": {},
   "outputs": [
    {
     "name": "stdout",
     "output_type": "stream",
     "text": [
      "Putting index on cpu.\n"
     ]
    }
   ],
   "source": [
    "# Make the index from the saved embeddings\n",
    "full_index_filename = \"../kb_index/wiki_index_embed.dat\"\n",
    "wiki40b_index = make_index(full_index_filename, device=\"cpu\")"
   ]
  },
  {
   "cell_type": "code",
   "execution_count": 5,
   "id": "material-trainer",
   "metadata": {},
   "outputs": [],
   "source": [
    "# load the BART model that is fine-tuned on the ELI5 task\n",
    "qa_s2s_tokenizer = AutoTokenizer.from_pretrained('yjernite/bart_eli5')\n",
    "qa_s2s_model = AutoModelForSeq2SeqLM.from_pretrained('yjernite/bart_eli5')"
   ]
  },
  {
   "cell_type": "code",
   "execution_count": 6,
   "id": "olive-commodity",
   "metadata": {},
   "outputs": [],
   "source": [
    "# Make an instance of the QAKnowledgeBase class\n",
    "qakb = QAKnowledgeBase(qar_model, qar_tokenizer, qa_s2s_model, qa_s2s_tokenizer, wiki40b_index, wiki40b_snippets)"
   ]
  },
  {
   "cell_type": "code",
   "execution_count": 7,
   "id": "statewide-infrared",
   "metadata": {},
   "outputs": [
    {
     "data": {
      "text/plain": [
       "[\"[This video]( URL_0 ) does a pretty good job of explaining how a computer works. It's a bit long, but it's worth it.\"]"
      ]
     },
     "execution_count": 7,
     "metadata": {},
     "output_type": "execute_result"
    }
   ],
   "source": [
    "# and ask a question with the ask_question method\n",
    "qakb.ask_question(\"How does a computer work?\", max_answer_length=256)"
   ]
  },
  {
   "cell_type": "code",
   "execution_count": 8,
   "id": "announced-silence",
   "metadata": {},
   "outputs": [
    {
     "data": {
      "text/plain": [
       "[\"I'm not an expert in this area, but just to make a short answer, the computer operates by manipulating electrical signals from one type of light bulb (transistors) on an electromagnet (transistor) to a different type of wire (transicluder). The switches (hard drive and RAM\",\n",
       " 'A computer is basically just a bunch of transistors connected together in a circuit. The transistors in turn run electrical devices (the processor) in parallel.',\n",
       " 'There is a lot of interesting stuff here. So a computer is actually an extremely complex network of switches that are a little like switches in a computer. There are hundreds of millions and billions of switches in that network, which are used to hold millions of things like all the data and to do things. In some',\n",
       " \"A computer's processor has a very specific set of instructions on what the computer does. The computer takes this instruction (which it's programmed in) and does something (generally, like taking a number and converting it into a digit, or writing data to some other location), and the processor can make whatever that\",\n",
       " \"I'm going to try to be as simple as possible. The computer is a device that can perform a number of actions, each of which are called an operation. An operations instruction may have three steps, and each of the steps may be repeated or done incrementally (I'm simplifying this). A processor\"]"
      ]
     },
     "execution_count": 8,
     "metadata": {},
     "output_type": "execute_result"
    }
   ],
   "source": [
    "# if you want multiple answers use this method.they can be a little nutty\n",
    "qakb.get_best_answers(\"How does a computer work?\")"
   ]
  },
  {
   "cell_type": "code",
   "execution_count": null,
   "id": "micro-titanium",
   "metadata": {},
   "outputs": [],
   "source": []
  }
 ],
 "metadata": {
  "kernelspec": {
   "display_name": "Python 3",
   "language": "python",
   "name": "python3"
  },
  "language_info": {
   "codemirror_mode": {
    "name": "ipython",
    "version": 3
   },
   "file_extension": ".py",
   "mimetype": "text/x-python",
   "name": "python",
   "nbconvert_exporter": "python",
   "pygments_lexer": "ipython3",
   "version": "3.6.9"
  }
 },
 "nbformat": 4,
 "nbformat_minor": 5
}
